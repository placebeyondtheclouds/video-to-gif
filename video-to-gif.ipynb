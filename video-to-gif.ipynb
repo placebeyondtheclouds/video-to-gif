{
 "cells": [
  {
   "cell_type": "code",
   "execution_count": null,
   "id": "29d82d29-a2f4-4251-a10b-e4cc2149a7eb",
   "metadata": {},
   "outputs": [],
   "source": [
    "import cv2\n",
    "import os\n",
    "import shutil\n",
    "from tqdm import tqdm\n",
    "import glob\n",
    "from PIL import Image\n",
    "from IPython.display import Image as IPYImage"
   ]
  },
  {
   "cell_type": "markdown",
   "id": "586aad8d-0a94-4ab3-9490-e9d5af264eca",
   "metadata": {},
   "source": [
    "### convert video to frames, resize and save to JPG"
   ]
  },
  {
   "cell_type": "code",
   "execution_count": null,
   "id": "antique-haven",
   "metadata": {},
   "outputs": [],
   "source": [
    "#based on https://www.blog.pythonlibrary.org/2021/06/29/converting-mp4-to-animated-gifs-with-python/\n",
    "\n",
    "filename_vid = \"preview2.mov\"\n",
    "filename_gif = os.path.basename(filename_vid)[:-4]+\".gif\"\n",
    "\n",
    "def convert_mp4_to_jpgs(path):\n",
    "    if os.path.exists(\"output\"):\n",
    "        # remove previous GIF frame files\n",
    "        shutil.rmtree(\"output\")\n",
    "    try:\n",
    "        os.mkdir(\"output\")\n",
    "    except IOError:\n",
    "        sg.popup(\"Error occurred creating output folder\")\n",
    "        return   \n",
    "    video_capture = cv2.VideoCapture(path)\n",
    "    still_reading, image = video_capture.read()\n",
    "    frame_count = 0\n",
    "    scale_percent = 30 # percent of original size\n",
    "    width = int(image.shape[1] * scale_percent / 100)\n",
    "    height = int(image.shape[0] * scale_percent / 100)\n",
    "    dim = (width, height)   \n",
    "    with tqdm() as bar:\n",
    "        while still_reading:\n",
    "            if frame_count % 25 == 0:\n",
    "                resized = cv2.resize(image, dim, interpolation = cv2.INTER_AREA)\n",
    "                cv2.imwrite(f\"output/frame_{frame_count:05d}.jpg\", resized) \n",
    "            # read next image\n",
    "            still_reading, image = video_capture.read()\n",
    "            frame_count += 1\n",
    "            bar.update(1)\n",
    "\n",
    "convert_mp4_to_jpgs(filename_vid)"
   ]
  },
  {
   "cell_type": "markdown",
   "id": "5dea1f38-fa10-4223-8421-9faf1f2ca698",
   "metadata": {},
   "source": [
    "### make gif out of JPGs"
   ]
  },
  {
   "cell_type": "code",
   "execution_count": null,
   "id": "b34550c0-7879-41b6-b4b2-1d4d8d7e2e2d",
   "metadata": {},
   "outputs": [],
   "source": [
    "def make_gif(frame_folder):\n",
    "    images = glob.glob(f\"{frame_folder}/*.jpg\")\n",
    "    images.sort()\n",
    "    frames = [Image.open(image) for image in images]\n",
    "    frames[0].save(filename_gif, format=\"GIF\", append_images=frames[1:], optimize=True,\n",
    "                   save_all=True, duration=500, loop=0)\n",
    "\n",
    "make_gif(\"output\")"
   ]
  },
  {
   "cell_type": "markdown",
   "id": "0ae44faa-fa0d-4b39-904a-891ab6ee2237",
   "metadata": {},
   "source": [
    "### preview the GIF"
   ]
  },
  {
   "cell_type": "code",
   "execution_count": null,
   "id": "f719018c-9684-42a5-8120-de0bdf0e5b14",
   "metadata": {},
   "outputs": [],
   "source": [
    "display(IPYImage(data=open(filename_gif,'rb').read(), format='gif'))"
   ]
  }
 ],
 "metadata": {
  "kernelspec": {
   "display_name": "Python [conda env:tf]",
   "language": "python",
   "name": "conda-env-tf-py"
  },
  "language_info": {
   "codemirror_mode": {
    "name": "ipython",
    "version": 3
   },
   "file_extension": ".py",
   "mimetype": "text/x-python",
   "name": "python",
   "nbconvert_exporter": "python",
   "pygments_lexer": "ipython3",
   "version": "3.10.4"
  }
 },
 "nbformat": 4,
 "nbformat_minor": 5
}
